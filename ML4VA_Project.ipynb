{
  "nbformat": 4,
  "nbformat_minor": 0,
  "metadata": {
    "colab": {
      "name": "Placeholder bois ML4VA Project",
      "provenance": [],
      "collapsed_sections": []
    },
    "kernelspec": {
      "name": "python3",
      "display_name": "Python 3"
    }
  },
  "cells": [
    {
      "cell_type": "code",
      "metadata": {
        "id": "gljxjsrkDIib",
        "colab_type": "code",
        "colab": {}
      },
      "source": [
        "from sklearn.model_selection import train_test_split\n",
        "from sklearn.impute import SimpleImputer\n",
        "from sklearn.preprocessing import LabelEncoder\n",
        "from sklearn.preprocessing import OneHotEncoder\n",
        "from sklearn.pipeline import Pipeline\n",
        "from sklearn.preprocessing import StandardScaler\n",
        "from sklearn.compose import ColumnTransformer\n",
        "from sklearn.model_selection import train_test_split\n",
        "import seaborn"
      ],
      "execution_count": 0,
      "outputs": []
    },
    {
      "cell_type": "code",
      "metadata": {
        "id": "_He-GcvDMfkb",
        "colab_type": "code",
        "outputId": "1610bf16-6601-4be3-ef7e-3513314f118a",
        "colab": {
          "base_uri": "https://localhost:8080/",
          "height": 617
        }
      },
      "source": [
        "import os\n",
        "import numpy as np\n",
        "import matplotlib\n",
        "import matplotlib.pyplot as plt\n",
        "import pandas as pd\n",
        "\n",
        "# Importing Virginia Beach Housing Data\n",
        "url = \"https://raw.githubusercontent.com/jjh5bc/ML4VA/master/Property_Sales.csv?token=AJ6FSTPP3O4WVSMEVDMGKFK5YIXLO\"\n",
        "vb_housing = pd.read_csv(url)\n",
        "vb_housing.head(10)\n",
        "#list(vb_housing)\n",
        "vb_housing.head(10)"
      ],
      "execution_count": 0,
      "outputs": [
        {
          "output_type": "stream",
          "text": [
            "/usr/local/lib/python3.6/dist-packages/IPython/core/interactiveshell.py:2718: DtypeWarning: Columns (11) have mixed types. Specify dtype option on import or set low_memory=False.\n",
            "  interactivity=interactivity, compiler=compiler, result=result)\n"
          ],
          "name": "stderr"
        },
        {
          "output_type": "execute_result",
          "data": {
            "text/html": [
              "<div>\n",
              "<style scoped>\n",
              "    .dataframe tbody tr th:only-of-type {\n",
              "        vertical-align: middle;\n",
              "    }\n",
              "\n",
              "    .dataframe tbody tr th {\n",
              "        vertical-align: top;\n",
              "    }\n",
              "\n",
              "    .dataframe thead th {\n",
              "        text-align: right;\n",
              "    }\n",
              "</style>\n",
              "<table border=\"1\" class=\"dataframe\">\n",
              "  <thead>\n",
              "    <tr style=\"text-align: right;\">\n",
              "      <th></th>\n",
              "      <th>GPIN</th>\n",
              "      <th>Street Address</th>\n",
              "      <th>Zip Code</th>\n",
              "      <th>Neighborhood</th>\n",
              "      <th>Land Value</th>\n",
              "      <th>Improvement Value</th>\n",
              "      <th>Total Value</th>\n",
              "      <th>Land USE (Y/N)</th>\n",
              "      <th>Sale Date</th>\n",
              "      <th>Sale Price</th>\n",
              "      <th>Document Number</th>\n",
              "      <th>Deed Book</th>\n",
              "      <th>Deed Page</th>\n",
              "      <th>Location 1</th>\n",
              "    </tr>\n",
              "  </thead>\n",
              "  <tbody>\n",
              "    <tr>\n",
              "      <th>0</th>\n",
              "      <td>24102120390000</td>\n",
              "      <td>NaN</td>\n",
              "      <td>NaN</td>\n",
              "      <td>Pungo Land Use</td>\n",
              "      <td>456700</td>\n",
              "      <td>0</td>\n",
              "      <td>456700</td>\n",
              "      <td>Yes</td>\n",
              "      <td>09/27/2018</td>\n",
              "      <td>0</td>\n",
              "      <td>20180927000799560</td>\n",
              "      <td>NaN</td>\n",
              "      <td>NaN</td>\n",
              "      <td>Virginia Beach, VA\\n(36.845117, -75.975518)</td>\n",
              "    </tr>\n",
              "    <tr>\n",
              "      <th>1</th>\n",
              "      <td>24177241280000</td>\n",
              "      <td>NaN</td>\n",
              "      <td>NaN</td>\n",
              "      <td>Birdneck Rd</td>\n",
              "      <td>491500</td>\n",
              "      <td>0</td>\n",
              "      <td>491500</td>\n",
              "      <td>No</td>\n",
              "      <td>05/08/2014</td>\n",
              "      <td>0</td>\n",
              "      <td>20140508000402150</td>\n",
              "      <td>NaN</td>\n",
              "      <td>NaN</td>\n",
              "      <td>Virginia Beach, VA\\n(36.845117, -75.975518)</td>\n",
              "    </tr>\n",
              "    <tr>\n",
              "      <th>2</th>\n",
              "      <td>24033860900000</td>\n",
              "      <td>2340 Esplanade Dr</td>\n",
              "      <td>23456-6527</td>\n",
              "      <td>Foxfire</td>\n",
              "      <td>125000</td>\n",
              "      <td>185700</td>\n",
              "      <td>310700</td>\n",
              "      <td>No</td>\n",
              "      <td>05/22/2019</td>\n",
              "      <td>0</td>\n",
              "      <td>20190522000411650</td>\n",
              "      <td>NaN</td>\n",
              "      <td>NaN</td>\n",
              "      <td>2340 Esplanade Dr\\nVirginia Beach, VA 23456-65...</td>\n",
              "    </tr>\n",
              "    <tr>\n",
              "      <th>3</th>\n",
              "      <td>24088285730000</td>\n",
              "      <td>832 Quail Pointe Cv</td>\n",
              "      <td>23454-3156</td>\n",
              "      <td>Linkhorn Estates Waterfront</td>\n",
              "      <td>595000</td>\n",
              "      <td>432800</td>\n",
              "      <td>1027800</td>\n",
              "      <td>No</td>\n",
              "      <td>05/22/2015</td>\n",
              "      <td>0</td>\n",
              "      <td>20150522000468110</td>\n",
              "      <td>NaN</td>\n",
              "      <td>NaN</td>\n",
              "      <td>832 Quail Pointe Cv\\nVirginia Beach, VA 23454-...</td>\n",
              "    </tr>\n",
              "    <tr>\n",
              "      <th>4</th>\n",
              "      <td>14952974580000</td>\n",
              "      <td>1229 Blue Jay Dr</td>\n",
              "      <td>23453-2901</td>\n",
              "      <td>Cardinal Estates</td>\n",
              "      <td>50000</td>\n",
              "      <td>145200</td>\n",
              "      <td>195200</td>\n",
              "      <td>No</td>\n",
              "      <td>02/09/2001</td>\n",
              "      <td>0</td>\n",
              "      <td>000000000000000</td>\n",
              "      <td>4343</td>\n",
              "      <td>2083.0</td>\n",
              "      <td>1229 Blue Jay Dr\\nVirginia Beach, VA 23453-290...</td>\n",
              "    </tr>\n",
              "    <tr>\n",
              "      <th>5</th>\n",
              "      <td>24089348780000</td>\n",
              "      <td>1536 Quail Point Rd</td>\n",
              "      <td>23454</td>\n",
              "      <td>Linkhorn Estates Waterfront</td>\n",
              "      <td>450000</td>\n",
              "      <td>16300</td>\n",
              "      <td>466300</td>\n",
              "      <td>No</td>\n",
              "      <td>02/11/2011</td>\n",
              "      <td>0</td>\n",
              "      <td>20110211000146230</td>\n",
              "      <td>NaN</td>\n",
              "      <td>NaN</td>\n",
              "      <td>1536 Quail Point Rd\\nVirginia Beach, VA 23454\\...</td>\n",
              "    </tr>\n",
              "    <tr>\n",
              "      <th>6</th>\n",
              "      <td>14786709010000</td>\n",
              "      <td>4040 Mason St</td>\n",
              "      <td>23455-5550</td>\n",
              "      <td>Reid Town</td>\n",
              "      <td>142800</td>\n",
              "      <td>228500</td>\n",
              "      <td>371300</td>\n",
              "      <td>No</td>\n",
              "      <td>05/05/2019</td>\n",
              "      <td>0</td>\n",
              "      <td>20171013000881550</td>\n",
              "      <td>NaN</td>\n",
              "      <td>NaN</td>\n",
              "      <td>4040 Mason St\\nVirginia Beach, VA 23455-5550\\n...</td>\n",
              "    </tr>\n",
              "    <tr>\n",
              "      <th>7</th>\n",
              "      <td>14673002880000</td>\n",
              "      <td>5390 Susquehanna Dr</td>\n",
              "      <td>23462-5907</td>\n",
              "      <td>Carolanne Farm/Point</td>\n",
              "      <td>110000</td>\n",
              "      <td>99700</td>\n",
              "      <td>209700</td>\n",
              "      <td>No</td>\n",
              "      <td>05/22/2019</td>\n",
              "      <td>0</td>\n",
              "      <td>20190522000412010</td>\n",
              "      <td>NaN</td>\n",
              "      <td>NaN</td>\n",
              "      <td>5390 Susquehanna Dr\\nVirginia Beach, VA 23462-...</td>\n",
              "    </tr>\n",
              "    <tr>\n",
              "      <th>8</th>\n",
              "      <td>14775948440000</td>\n",
              "      <td>4516 S Hessian Rd</td>\n",
              "      <td>23462-2312</td>\n",
              "      <td>Pembroke Manor</td>\n",
              "      <td>88900</td>\n",
              "      <td>161600</td>\n",
              "      <td>250500</td>\n",
              "      <td>No</td>\n",
              "      <td>05/22/2019</td>\n",
              "      <td>0</td>\n",
              "      <td>20190522000413200</td>\n",
              "      <td>NaN</td>\n",
              "      <td>NaN</td>\n",
              "      <td>4516 S Hessian Rd\\nVirginia Beach, VA 23462-23...</td>\n",
              "    </tr>\n",
              "    <tr>\n",
              "      <th>9</th>\n",
              "      <td>24170476630000</td>\n",
              "      <td>116 N Oceana Blvd</td>\n",
              "      <td>23454</td>\n",
              "      <td>Oceana East</td>\n",
              "      <td>81000</td>\n",
              "      <td>241500</td>\n",
              "      <td>322500</td>\n",
              "      <td>No</td>\n",
              "      <td>06/28/2018</td>\n",
              "      <td>89000</td>\n",
              "      <td>20180628000525960</td>\n",
              "      <td>NaN</td>\n",
              "      <td>NaN</td>\n",
              "      <td>116 N Oceana Blvd\\nVirginia Beach, VA 23454\\n(...</td>\n",
              "    </tr>\n",
              "  </tbody>\n",
              "</table>\n",
              "</div>"
            ],
            "text/plain": [
              "             GPIN  ...                                         Location 1\n",
              "0  24102120390000  ...        Virginia Beach, VA\\n(36.845117, -75.975518)\n",
              "1  24177241280000  ...        Virginia Beach, VA\\n(36.845117, -75.975518)\n",
              "2  24033860900000  ...  2340 Esplanade Dr\\nVirginia Beach, VA 23456-65...\n",
              "3  24088285730000  ...  832 Quail Pointe Cv\\nVirginia Beach, VA 23454-...\n",
              "4  14952974580000  ...  1229 Blue Jay Dr\\nVirginia Beach, VA 23453-290...\n",
              "5  24089348780000  ...  1536 Quail Point Rd\\nVirginia Beach, VA 23454\\...\n",
              "6  14786709010000  ...  4040 Mason St\\nVirginia Beach, VA 23455-5550\\n...\n",
              "7  14673002880000  ...  5390 Susquehanna Dr\\nVirginia Beach, VA 23462-...\n",
              "8  14775948440000  ...  4516 S Hessian Rd\\nVirginia Beach, VA 23462-23...\n",
              "9  24170476630000  ...  116 N Oceana Blvd\\nVirginia Beach, VA 23454\\n(...\n",
              "\n",
              "[10 rows x 14 columns]"
            ]
          },
          "metadata": {
            "tags": []
          },
          "execution_count": 2
        }
      ]
    },
    {
      "cell_type": "code",
      "metadata": {
        "id": "ToRbZdcxwLOU",
        "colab_type": "code",
        "colab": {}
      },
      "source": [
        "#from sklearn.model_selection import train_test_split\n",
        "#x_attribs = ['GPIN', 'Street Address', 'Zip Code', 'Neighborhood', 'Land Value', 'Improvement Value', 'Sale Price', 'Sale Date']\n",
        "#drop_attribs = ['Land Value', 'Street Address', 'Location 1']\n",
        "#y_attribs = ['Total Value']\n",
        "#train_set_x, test_set_x = train_test_split(vb_housing[x_attribs], test_size=0.2, random_state=42)\n",
        "#train_set_y, test_set_y = train_test_split(vb_housing[y_attribs], test_size=0.2, random_state=42)\n",
        "#train_set_x.head(10)"
      ],
      "execution_count": 0,
      "outputs": []
    },
    {
      "cell_type": "code",
      "metadata": {
        "id": "yOO6ZF0R_38_",
        "colab_type": "code",
        "outputId": "b6f0bba6-ed08-4ed0-80fd-6245e35cc787",
        "colab": {
          "base_uri": "https://localhost:8080/",
          "height": 892
        }
      },
      "source": [
        "%matplotlib inline\n",
        "vb_housing.hist(bins=50, figsize=(20,15))\n",
        "# save_fig(\"attribute_histogram_plots\")\n",
        "plt.show()"
      ],
      "execution_count": 0,
      "outputs": [
        {
          "output_type": "display_data",
          "data": {
            "image/png": "[encoded data removed]",
            "text/plain": [
              "<Figure size 1440x1080 with 6 Axes>"
            ]
          },
          "metadata": {
            "tags": []
          }
        }
      ]
    },
    {
      "cell_type": "code",
      "metadata": {
        "id": "acuU3S1MF2Pj",
        "colab_type": "code",
        "colab": {}
      },
      "source": [
        "dates = []\n",
        "for i in range(507228):\n",
        "  try:\n",
        "    dates.append(int(vb_housing['Sale Date'][i].split('/')[-1]))\n",
        "  except:\n",
        "    dates.append(None)"
      ],
      "execution_count": 0,
      "outputs": []
    },
    {
      "cell_type": "code",
      "metadata": {
        "id": "8SLrY2GsHM5m",
        "colab_type": "code",
        "outputId": "2b063024-a9ac-456c-c80d-010342787a29",
        "colab": {
          "base_uri": "https://localhost:8080/",
          "height": 34
        }
      },
      "source": [
        "vb_housing['dates'] = dates\n",
        "vb_housing = vb_housing.drop('Sale Date',axis=1)\n",
        "vb_housing = vb_housing.drop('Location 1',axis=1)\n",
        "vb_housing = vb_housing.drop('Deed Page',axis=1)\n",
        "vb_housing = vb_housing.drop('Deed Book',axis=1)\n",
        "vb_housing = vb_housing.drop('Street Address',axis=1)\n",
        "vb_housing = vb_housing.drop('Document Number',axis=1)\n",
        "vb_housing = vb_housing.drop('Land Value',axis=1)\n",
        "vb_housing.shape"
      ],
      "execution_count": 0,
      "outputs": [
        {
          "output_type": "execute_result",
          "data": {
            "text/plain": [
              "(507228, 8)"
            ]
          },
          "metadata": {
            "tags": []
          },
          "execution_count": 6
        }
      ]
    },
    {
      "cell_type": "code",
      "metadata": {
        "id": "vMJhh7hTClYt",
        "colab_type": "code",
        "outputId": "1c2766bd-98a6-4490-a21c-1b24365b0aff",
        "colab": {
          "base_uri": "https://localhost:8080/",
          "height": 153
        }
      },
      "source": [
        "list(vb_housing)"
      ],
      "execution_count": 0,
      "outputs": [
        {
          "output_type": "execute_result",
          "data": {
            "text/plain": [
              "['GPIN',\n",
              " 'Zip Code',\n",
              " 'Neighborhood',\n",
              " 'Improvement Value',\n",
              " 'Total Value',\n",
              " 'Land USE (Y/N)',\n",
              " 'Sale Price',\n",
              " 'dates']"
            ]
          },
          "metadata": {
            "tags": []
          },
          "execution_count": 7
        }
      ]
    },
    {
      "cell_type": "code",
      "metadata": {
        "id": "jbqYBSzELIs1",
        "colab_type": "code",
        "colab": {}
      },
      "source": [
        "vb_housing = vb_housing.dropna()"
      ],
      "execution_count": 0,
      "outputs": []
    },
    {
      "cell_type": "code",
      "metadata": {
        "id": "kzGZv0ekKvMp",
        "colab_type": "code",
        "outputId": "4e8e16a8-ec2b-4108-e3ae-da2dc8ce1af7",
        "colab": {
          "base_uri": "https://localhost:8080/",
          "height": 49
        }
      },
      "source": [
        "sample_incomplete_rows = vb_housing[vb_housing.isnull().any(axis=1)]\n",
        "sample_incomplete_rows"
      ],
      "execution_count": 0,
      "outputs": [
        {
          "output_type": "execute_result",
          "data": {
            "text/html": [
              "<div>\n",
              "<style scoped>\n",
              "    .dataframe tbody tr th:only-of-type {\n",
              "        vertical-align: middle;\n",
              "    }\n",
              "\n",
              "    .dataframe tbody tr th {\n",
              "        vertical-align: top;\n",
              "    }\n",
              "\n",
              "    .dataframe thead th {\n",
              "        text-align: right;\n",
              "    }\n",
              "</style>\n",
              "<table border=\"1\" class=\"dataframe\">\n",
              "  <thead>\n",
              "    <tr style=\"text-align: right;\">\n",
              "      <th></th>\n",
              "      <th>GPIN</th>\n",
              "      <th>Zip Code</th>\n",
              "      <th>Neighborhood</th>\n",
              "      <th>Improvement Value</th>\n",
              "      <th>Total Value</th>\n",
              "      <th>Land USE (Y/N)</th>\n",
              "      <th>Sale Price</th>\n",
              "      <th>dates</th>\n",
              "    </tr>\n",
              "  </thead>\n",
              "  <tbody>\n",
              "  </tbody>\n",
              "</table>\n",
              "</div>"
            ],
            "text/plain": [
              "Empty DataFrame\n",
              "Columns: [GPIN, Zip Code, Neighborhood, Improvement Value, Total Value, Land USE (Y/N), Sale Price, dates]\n",
              "Index: []"
            ]
          },
          "metadata": {
            "tags": []
          },
          "execution_count": 9
        }
      ]
    },
    {
      "cell_type": "code",
      "metadata": {
        "id": "WdrQlS5_ABBn",
        "colab_type": "code",
        "colab": {}
      },
      "source": [
        "num_pipeline = Pipeline([\n",
        "        # the imputer doesn't really matter in this case because there is no missing data\n",
        "        ('std_scaler', StandardScaler()),\n",
        "    ])\n",
        "X_attribs = ['GPIN','Zip Code','Neighborhood','Improvement Value','Land USE (Y/N)','Sale Price','dates']\n",
        "y_attribs = ['Total Value']\n",
        "numerical_attribs = list(vb_housing.select_dtypes(include=[np.number]).drop(\"Total Value\", axis=1))\n",
        "category_attribs = ['Zip Code','Neighborhood','Land USE (Y/N)',]\n",
        "\n",
        "full_pipeline = ColumnTransformer([\n",
        "        (\"num\", num_pipeline, numerical_attribs),\n",
        "        (\"cat\", OneHotEncoder(), category_attribs),\n",
        "    ])"
      ],
      "execution_count": 0,
      "outputs": []
    },
    {
      "cell_type": "code",
      "metadata": {
        "id": "MmRx6SCJCvwh",
        "colab_type": "code",
        "outputId": "e659a3ae-f1f5-45fc-c3c8-9e8bd4b4ca25",
        "colab": {
          "base_uri": "https://localhost:8080/",
          "height": 34
        }
      },
      "source": [
        "vb_housing.shape"
      ],
      "execution_count": 0,
      "outputs": [
        {
          "output_type": "execute_result",
          "data": {
            "text/plain": [
              "(494807, 8)"
            ]
          },
          "metadata": {
            "tags": []
          },
          "execution_count": 11
        }
      ]
    },
    {
      "cell_type": "code",
      "metadata": {
        "id": "qnAXyvXDEoGg",
        "colab_type": "code",
        "outputId": "3b0e00c1-7485-450e-86f9-d8ca92134688",
        "colab": {
          "base_uri": "https://localhost:8080/",
          "height": 419
        }
      },
      "source": [
        "vb_housing"
      ],
      "execution_count": 0,
      "outputs": [
        {
          "output_type": "execute_result",
          "data": {
            "text/html": [
              "<div>\n",
              "<style scoped>\n",
              "    .dataframe tbody tr th:only-of-type {\n",
              "        vertical-align: middle;\n",
              "    }\n",
              "\n",
              "    .dataframe tbody tr th {\n",
              "        vertical-align: top;\n",
              "    }\n",
              "\n",
              "    .dataframe thead th {\n",
              "        text-align: right;\n",
              "    }\n",
              "</style>\n",
              "<table border=\"1\" class=\"dataframe\">\n",
              "  <thead>\n",
              "    <tr style=\"text-align: right;\">\n",
              "      <th></th>\n",
              "      <th>GPIN</th>\n",
              "      <th>Zip Code</th>\n",
              "      <th>Neighborhood</th>\n",
              "      <th>Improvement Value</th>\n",
              "      <th>Total Value</th>\n",
              "      <th>Land USE (Y/N)</th>\n",
              "      <th>Sale Price</th>\n",
              "      <th>dates</th>\n",
              "    </tr>\n",
              "  </thead>\n",
              "  <tbody>\n",
              "    <tr>\n",
              "      <th>2</th>\n",
              "      <td>24033860900000</td>\n",
              "      <td>23456-6527</td>\n",
              "      <td>Foxfire</td>\n",
              "      <td>185700</td>\n",
              "      <td>310700</td>\n",
              "      <td>No</td>\n",
              "      <td>0</td>\n",
              "      <td>2019.0</td>\n",
              "    </tr>\n",
              "    <tr>\n",
              "      <th>3</th>\n",
              "      <td>24088285730000</td>\n",
              "      <td>23454-3156</td>\n",
              "      <td>Linkhorn Estates Waterfront</td>\n",
              "      <td>432800</td>\n",
              "      <td>1027800</td>\n",
              "      <td>No</td>\n",
              "      <td>0</td>\n",
              "      <td>2015.0</td>\n",
              "    </tr>\n",
              "    <tr>\n",
              "      <th>4</th>\n",
              "      <td>14952974580000</td>\n",
              "      <td>23453-2901</td>\n",
              "      <td>Cardinal Estates</td>\n",
              "      <td>145200</td>\n",
              "      <td>195200</td>\n",
              "      <td>No</td>\n",
              "      <td>0</td>\n",
              "      <td>2001.0</td>\n",
              "    </tr>\n",
              "    <tr>\n",
              "      <th>5</th>\n",
              "      <td>24089348780000</td>\n",
              "      <td>23454</td>\n",
              "      <td>Linkhorn Estates Waterfront</td>\n",
              "      <td>16300</td>\n",
              "      <td>466300</td>\n",
              "      <td>No</td>\n",
              "      <td>0</td>\n",
              "      <td>2011.0</td>\n",
              "    </tr>\n",
              "    <tr>\n",
              "      <th>6</th>\n",
              "      <td>14786709010000</td>\n",
              "      <td>23455-5550</td>\n",
              "      <td>Reid Town</td>\n",
              "      <td>228500</td>\n",
              "      <td>371300</td>\n",
              "      <td>No</td>\n",
              "      <td>0</td>\n",
              "      <td>2019.0</td>\n",
              "    </tr>\n",
              "    <tr>\n",
              "      <th>...</th>\n",
              "      <td>...</td>\n",
              "      <td>...</td>\n",
              "      <td>...</td>\n",
              "      <td>...</td>\n",
              "      <td>...</td>\n",
              "      <td>...</td>\n",
              "      <td>...</td>\n",
              "      <td>...</td>\n",
              "    </tr>\n",
              "    <tr>\n",
              "      <th>507222</th>\n",
              "      <td>14807810340000</td>\n",
              "      <td>23457-1112</td>\n",
              "      <td>Blackwater</td>\n",
              "      <td>76000</td>\n",
              "      <td>190700</td>\n",
              "      <td>No</td>\n",
              "      <td>0</td>\n",
              "      <td>2015.0</td>\n",
              "    </tr>\n",
              "    <tr>\n",
              "      <th>507224</th>\n",
              "      <td>24140239290000</td>\n",
              "      <td>23456-3870</td>\n",
              "      <td>Three Oaks</td>\n",
              "      <td>343200</td>\n",
              "      <td>487200</td>\n",
              "      <td>No</td>\n",
              "      <td>208325</td>\n",
              "      <td>1992.0</td>\n",
              "    </tr>\n",
              "    <tr>\n",
              "      <th>507225</th>\n",
              "      <td>14888530600000</td>\n",
              "      <td>23452-6127</td>\n",
              "      <td>Middle Plantation</td>\n",
              "      <td>273000</td>\n",
              "      <td>541800</td>\n",
              "      <td>No</td>\n",
              "      <td>216500</td>\n",
              "      <td>1988.0</td>\n",
              "    </tr>\n",
              "    <tr>\n",
              "      <th>507226</th>\n",
              "      <td>14950813060000</td>\n",
              "      <td>23453-2832</td>\n",
              "      <td>Green Run Th</td>\n",
              "      <td>97900</td>\n",
              "      <td>143900</td>\n",
              "      <td>No</td>\n",
              "      <td>77500</td>\n",
              "      <td>2003.0</td>\n",
              "    </tr>\n",
              "    <tr>\n",
              "      <th>507227</th>\n",
              "      <td>14865445930000</td>\n",
              "      <td>23462</td>\n",
              "      <td>Holland</td>\n",
              "      <td>742900</td>\n",
              "      <td>1393600</td>\n",
              "      <td>No</td>\n",
              "      <td>0</td>\n",
              "      <td>2015.0</td>\n",
              "    </tr>\n",
              "  </tbody>\n",
              "</table>\n",
              "<p>494807 rows × 8 columns</p>\n",
              "</div>"
            ],
            "text/plain": [
              "                  GPIN    Zip Code  ... Sale Price   dates\n",
              "2       24033860900000  23456-6527  ...          0  2019.0\n",
              "3       24088285730000  23454-3156  ...          0  2015.0\n",
              "4       14952974580000  23453-2901  ...          0  2001.0\n",
              "5       24089348780000       23454  ...          0  2011.0\n",
              "6       14786709010000  23455-5550  ...          0  2019.0\n",
              "...                ...         ...  ...        ...     ...\n",
              "507222  14807810340000  23457-1112  ...          0  2015.0\n",
              "507224  24140239290000  23456-3870  ...     208325  1992.0\n",
              "507225  14888530600000  23452-6127  ...     216500  1988.0\n",
              "507226  14950813060000  23453-2832  ...      77500  2003.0\n",
              "507227  14865445930000       23462  ...          0  2015.0\n",
              "\n",
              "[494807 rows x 8 columns]"
            ]
          },
          "metadata": {
            "tags": []
          },
          "execution_count": 12
        }
      ]
    },
    {
      "cell_type": "code",
      "metadata": {
        "colab_type": "code",
        "id": "HGiTs7NaCsgS",
        "colab": {}
      },
      "source": [
        "import random\n",
        "risks = []\n",
        "for i in range(vb_housing.shape[0]):\n",
        "  risks.append(random.randint(0,5))\n",
        "vb_housing['risk'] = risks"
      ],
      "execution_count": 0,
      "outputs": []
    },
    {
      "cell_type": "code",
      "metadata": {
        "id": "Hecw3QyuCtX9",
        "colab_type": "code",
        "outputId": "70d43a75-beeb-4a07-ba4a-bf5532c74c5b",
        "colab": {
          "base_uri": "https://localhost:8080/",
          "height": 359
        }
      },
      "source": [
        "vb_housing.head(10)"
      ],
      "execution_count": 0,
      "outputs": [
        {
          "output_type": "execute_result",
          "data": {
            "text/html": [
              "<div>\n",
              "<style scoped>\n",
              "    .dataframe tbody tr th:only-of-type {\n",
              "        vertical-align: middle;\n",
              "    }\n",
              "\n",
              "    .dataframe tbody tr th {\n",
              "        vertical-align: top;\n",
              "    }\n",
              "\n",
              "    .dataframe thead th {\n",
              "        text-align: right;\n",
              "    }\n",
              "</style>\n",
              "<table border=\"1\" class=\"dataframe\">\n",
              "  <thead>\n",
              "    <tr style=\"text-align: right;\">\n",
              "      <th></th>\n",
              "      <th>GPIN</th>\n",
              "      <th>Zip Code</th>\n",
              "      <th>Neighborhood</th>\n",
              "      <th>Improvement Value</th>\n",
              "      <th>Total Value</th>\n",
              "      <th>Land USE (Y/N)</th>\n",
              "      <th>Sale Price</th>\n",
              "      <th>dates</th>\n",
              "      <th>risk</th>\n",
              "    </tr>\n",
              "  </thead>\n",
              "  <tbody>\n",
              "    <tr>\n",
              "      <th>2</th>\n",
              "      <td>24033860900000</td>\n",
              "      <td>23456-6527</td>\n",
              "      <td>Foxfire</td>\n",
              "      <td>185700</td>\n",
              "      <td>310700</td>\n",
              "      <td>No</td>\n",
              "      <td>0</td>\n",
              "      <td>2019.0</td>\n",
              "      <td>4</td>\n",
              "    </tr>\n",
              "    <tr>\n",
              "      <th>3</th>\n",
              "      <td>24088285730000</td>\n",
              "      <td>23454-3156</td>\n",
              "      <td>Linkhorn Estates Waterfront</td>\n",
              "      <td>432800</td>\n",
              "      <td>1027800</td>\n",
              "      <td>No</td>\n",
              "      <td>0</td>\n",
              "      <td>2015.0</td>\n",
              "      <td>2</td>\n",
              "    </tr>\n",
              "    <tr>\n",
              "      <th>4</th>\n",
              "      <td>14952974580000</td>\n",
              "      <td>23453-2901</td>\n",
              "      <td>Cardinal Estates</td>\n",
              "      <td>145200</td>\n",
              "      <td>195200</td>\n",
              "      <td>No</td>\n",
              "      <td>0</td>\n",
              "      <td>2001.0</td>\n",
              "      <td>4</td>\n",
              "    </tr>\n",
              "    <tr>\n",
              "      <th>5</th>\n",
              "      <td>24089348780000</td>\n",
              "      <td>23454</td>\n",
              "      <td>Linkhorn Estates Waterfront</td>\n",
              "      <td>16300</td>\n",
              "      <td>466300</td>\n",
              "      <td>No</td>\n",
              "      <td>0</td>\n",
              "      <td>2011.0</td>\n",
              "      <td>0</td>\n",
              "    </tr>\n",
              "    <tr>\n",
              "      <th>6</th>\n",
              "      <td>14786709010000</td>\n",
              "      <td>23455-5550</td>\n",
              "      <td>Reid Town</td>\n",
              "      <td>228500</td>\n",
              "      <td>371300</td>\n",
              "      <td>No</td>\n",
              "      <td>0</td>\n",
              "      <td>2019.0</td>\n",
              "      <td>3</td>\n",
              "    </tr>\n",
              "    <tr>\n",
              "      <th>7</th>\n",
              "      <td>14673002880000</td>\n",
              "      <td>23462-5907</td>\n",
              "      <td>Carolanne Farm/Point</td>\n",
              "      <td>99700</td>\n",
              "      <td>209700</td>\n",
              "      <td>No</td>\n",
              "      <td>0</td>\n",
              "      <td>2019.0</td>\n",
              "      <td>4</td>\n",
              "    </tr>\n",
              "    <tr>\n",
              "      <th>8</th>\n",
              "      <td>14775948440000</td>\n",
              "      <td>23462-2312</td>\n",
              "      <td>Pembroke Manor</td>\n",
              "      <td>161600</td>\n",
              "      <td>250500</td>\n",
              "      <td>No</td>\n",
              "      <td>0</td>\n",
              "      <td>2019.0</td>\n",
              "      <td>4</td>\n",
              "    </tr>\n",
              "    <tr>\n",
              "      <th>9</th>\n",
              "      <td>24170476630000</td>\n",
              "      <td>23454</td>\n",
              "      <td>Oceana East</td>\n",
              "      <td>241500</td>\n",
              "      <td>322500</td>\n",
              "      <td>No</td>\n",
              "      <td>89000</td>\n",
              "      <td>2018.0</td>\n",
              "      <td>5</td>\n",
              "    </tr>\n",
              "    <tr>\n",
              "      <th>10</th>\n",
              "      <td>14678816745408</td>\n",
              "      <td>23462-1969</td>\n",
              "      <td>Summerset/Garnett Point Lakes</td>\n",
              "      <td>126800</td>\n",
              "      <td>207800</td>\n",
              "      <td>No</td>\n",
              "      <td>238000</td>\n",
              "      <td>2019.0</td>\n",
              "      <td>4</td>\n",
              "    </tr>\n",
              "    <tr>\n",
              "      <th>11</th>\n",
              "      <td>14978011770000</td>\n",
              "      <td>23454</td>\n",
              "      <td>London Brdg Xng/Evergreens</td>\n",
              "      <td>248100</td>\n",
              "      <td>366500</td>\n",
              "      <td>No</td>\n",
              "      <td>400000</td>\n",
              "      <td>2019.0</td>\n",
              "      <td>0</td>\n",
              "    </tr>\n",
              "  </tbody>\n",
              "</table>\n",
              "</div>"
            ],
            "text/plain": [
              "              GPIN    Zip Code  ...   dates  risk\n",
              "2   24033860900000  23456-6527  ...  2019.0     4\n",
              "3   24088285730000  23454-3156  ...  2015.0     2\n",
              "4   14952974580000  23453-2901  ...  2001.0     4\n",
              "5   24089348780000       23454  ...  2011.0     0\n",
              "6   14786709010000  23455-5550  ...  2019.0     3\n",
              "7   14673002880000  23462-5907  ...  2019.0     4\n",
              "8   14775948440000  23462-2312  ...  2019.0     4\n",
              "9   24170476630000       23454  ...  2018.0     5\n",
              "10  14678816745408  23462-1969  ...  2019.0     4\n",
              "11  14978011770000       23454  ...  2019.0     0\n",
              "\n",
              "[10 rows x 9 columns]"
            ]
          },
          "metadata": {
            "tags": []
          },
          "execution_count": 14
        }
      ]
    },
    {
      "cell_type": "code",
      "metadata": {
        "id": "mTLttjBpdNX-",
        "colab_type": "code",
        "colab": {}
      },
      "source": [
        "features = vb_housing[X_attribs]\n",
        "features = full_pipeline.fit_transform(features)"
      ],
      "execution_count": 0,
      "outputs": []
    },
    {
      "cell_type": "code",
      "metadata": {
        "id": "Ff-RBC7JEzuj",
        "colab_type": "code",
        "outputId": "dfc48970-7af1-4a3e-a112-3b41fe6dacc2",
        "colab": {
          "base_uri": "https://localhost:8080/",
          "height": 51
        }
      },
      "source": [
        "features[0]"
      ],
      "execution_count": 0,
      "outputs": [
        {
          "output_type": "execute_result",
          "data": {
            "text/plain": [
              "<1x20241 sparse matrix of type '<class 'numpy.float64'>'\n",
              "\twith 7 stored elements in Compressed Sparse Row format>"
            ]
          },
          "metadata": {
            "tags": []
          },
          "execution_count": 14
        }
      ]
    },
    {
      "cell_type": "code",
      "metadata": {
        "id": "DXfq1JolJ91w",
        "colab_type": "code",
        "colab": {}
      },
      "source": [
        "#train_set_X, test_set_X = train_test_split(features, test_size=0.2, random_state=42)\n",
        "X_train, X_test = train_test_split(features, test_size=0.2, random_state=42)\n",
        "# split only the charges (target value)\n",
        "train_set_y, test_set_y = train_test_split(vb_housing[y_attribs], test_size=0.2, random_state=42)\n",
        "\n",
        "y_train = num_pipeline.fit_transform(train_set_y)  # does not have categorical, only the charges\n",
        "#X_train = full_pipeline.fit_transform(train_set_X) # has categorical\n",
        "y_test = num_pipeline.fit_transform(test_set_y)    # does not have categorical, only the charges\n",
        "#X_test = full_pipeline.fit_transform(test_set_X) "
      ],
      "execution_count": 0,
      "outputs": []
    },
    {
      "cell_type": "code",
      "metadata": {
        "id": "j6v1FZ3qLtVH",
        "colab_type": "code",
        "outputId": "5b855911-8766-48c7-deb8-d1f9e24ad596",
        "colab": {
          "base_uri": "https://localhost:8080/",
          "height": 34
        }
      },
      "source": [
        "from sklearn.linear_model import LinearRegression\n",
        "lin_reg = LinearRegression()\n",
        "lin_reg.fit(X_train, y_train)"
      ],
      "execution_count": 0,
      "outputs": [
        {
          "output_type": "execute_result",
          "data": {
            "text/plain": [
              "LinearRegression(copy_X=True, fit_intercept=True, n_jobs=None, normalize=False)"
            ]
          },
          "metadata": {
            "tags": []
          },
          "execution_count": 16
        }
      ]
    },
    {
      "cell_type": "code",
      "metadata": {
        "id": "TmcRms8vFuQf",
        "colab_type": "code",
        "outputId": "10625403-d8de-4926-f267-39462e13f9c1",
        "colab": {
          "base_uri": "https://localhost:8080/",
          "height": 34
        }
      },
      "source": [
        "lin_reg.predict(features[0])[0][0]"
      ],
      "execution_count": 0,
      "outputs": [
        {
          "output_type": "execute_result",
          "data": {
            "text/plain": [
              "-0.0160682956172706"
            ]
          },
          "metadata": {
            "tags": []
          },
          "execution_count": 20
        }
      ]
    },
    {
      "cell_type": "code",
      "metadata": {
        "id": "LaLIbRXvmFbg",
        "colab_type": "code",
        "outputId": "283b1f70-29ce-487a-868b-f1f48b75f44d",
        "colab": {
          "base_uri": "https://localhost:8080/",
          "height": 34
        }
      },
      "source": [
        "d = lin_reg.predict(features[0])\n",
        "num_pipeline.inverse_transform(d)"
      ],
      "execution_count": 0,
      "outputs": [
        {
          "output_type": "execute_result",
          "data": {
            "text/plain": [
              "array([[344252.87122379]])"
            ]
          },
          "metadata": {
            "tags": []
          },
          "execution_count": 22
        }
      ]
    },
    {
      "cell_type": "code",
      "metadata": {
        "id": "JASQRVfeG275",
        "colab_type": "code",
        "outputId": "c9188aef-3b87-4424-d33e-7f9b45f62b2c",
        "colab": {
          "base_uri": "https://localhost:8080/",
          "height": 34
        }
      },
      "source": [
        "def econ_loss(feature_set, year):\n",
        "  cost = num_pipeline.inverse_transform(lin_reg.predict(features[feature_set]))[0][0]\n",
        "  risk = risks[feature_set]\n",
        "  if year > risk:\n",
        "    return cost\n",
        "  return 0\n",
        "econ_loss(3,4)"
      ],
      "execution_count": 0,
      "outputs": [
        {
          "output_type": "execute_result",
          "data": {
            "text/plain": [
              "412729.1177317636"
            ]
          },
          "metadata": {
            "tags": []
          },
          "execution_count": 26
        }
      ]
    },
    {
      "cell_type": "code",
      "metadata": {
        "id": "S-BAvo6VcG1c",
        "colab_type": "code",
        "outputId": "06025ffd-7c50-42f4-8197-453538a18583",
        "colab": {
          "base_uri": "https://localhost:8080/",
          "height": 34
        }
      },
      "source": [
        "X_test.shape"
      ],
      "execution_count": 0,
      "outputs": [
        {
          "output_type": "execute_result",
          "data": {
            "text/plain": [
              "(98962, 20241)"
            ]
          },
          "metadata": {
            "tags": []
          },
          "execution_count": 29
        }
      ]
    },
    {
      "cell_type": "code",
      "metadata": {
        "id": "nT0i92tQcNgn",
        "colab_type": "code",
        "outputId": "3bde6191-3483-43c2-8e26-2e6b30810870",
        "colab": {
          "base_uri": "https://localhost:8080/",
          "height": 34
        }
      },
      "source": [
        "X_train.shape"
      ],
      "execution_count": 0,
      "outputs": [
        {
          "output_type": "execute_result",
          "data": {
            "text/plain": [
              "(395845, 20241)"
            ]
          },
          "metadata": {
            "tags": []
          },
          "execution_count": 30
        }
      ]
    },
    {
      "cell_type": "code",
      "metadata": {
        "id": "fejAK2oURuMC",
        "colab_type": "code",
        "outputId": "b7b88951-d22c-4243-d7ef-5c11e2ae06a1",
        "colab": {
          "base_uri": "https://localhost:8080/",
          "height": 34
        }
      },
      "source": [
        "from sklearn.metrics import mean_squared_error\n",
        "lin_predictions = lin_reg.predict(X_test)\n",
        "\n",
        "lin_reg_mse = mean_squared_error(y_test, lin_predictions)\n",
        "lin_reg_rmse = np.sqrt(lin_reg_mse)\n",
        "lin_reg_rmse"
      ],
      "execution_count": 0,
      "outputs": [
        {
          "output_type": "execute_result",
          "data": {
            "text/plain": [
              "0.7491668545495284"
            ]
          },
          "metadata": {
            "tags": []
          },
          "execution_count": 31
        }
      ]
    },
    {
      "cell_type": "code",
      "metadata": {
        "id": "enqw8zlRhNUJ",
        "colab_type": "code",
        "outputId": "4d784cce-72ae-466f-8b0e-07a34fc1750e",
        "colab": {
          "base_uri": "https://localhost:8080/",
          "height": 34
        }
      },
      "source": [
        "lin_reg.score(X_train, y_train)"
      ],
      "execution_count": 0,
      "outputs": [
        {
          "output_type": "execute_result",
          "data": {
            "text/plain": [
              "0.9964045247958285"
            ]
          },
          "metadata": {
            "tags": []
          },
          "execution_count": 16
        }
      ]
    },
    {
      "cell_type": "code",
      "metadata": {
        "id": "fwbdD6J_hOt4",
        "colab_type": "code",
        "colab": {}
      },
      "source": [
        "from sklearn.model_selection import cross_val_score\n",
        "scores = cross_val_score(lin_reg, X_train, y_train,\n",
        "                         scoring=\"neg_mean_squared_error\", cv=10)\n",
        "tree_rmse_scores = np.sqrt(-scores)"
      ],
      "execution_count": 0,
      "outputs": []
    },
    {
      "cell_type": "code",
      "metadata": {
        "id": "matSLYflkDcg",
        "colab_type": "code",
        "outputId": "eb164458-d149-408d-f66d-8866357e935c",
        "colab": {
          "base_uri": "https://localhost:8080/",
          "height": 34
        }
      },
      "source": [
        "np.mean(tree_rmse_scores)"
      ],
      "execution_count": 0,
      "outputs": [
        {
          "output_type": "execute_result",
          "data": {
            "text/plain": [
              "0.06373747070264027"
            ]
          },
          "metadata": {
            "tags": []
          },
          "execution_count": 138
        }
      ]
    },
    {
      "cell_type": "code",
      "metadata": {
        "id": "OtRhazYOlFq-",
        "colab_type": "code",
        "outputId": "7383036a-7cb9-464c-b6b3-6728d3dd2ffd",
        "colab": {
          "base_uri": "https://localhost:8080/",
          "height": 188
        }
      },
      "source": [
        "from sklearn.ensemble import RandomForestRegressor\n",
        "\n",
        "forest_reg = RandomForestRegressor(n_estimators=10, random_state=42)\n",
        "forest_reg.fit(X_train, y_train)"
      ],
      "execution_count": 0,
      "outputs": [
        {
          "output_type": "stream",
          "text": [
            "/usr/local/lib/python3.6/dist-packages/ipykernel_launcher.py:4: DataConversionWarning: A column-vector y was passed when a 1d array was expected. Please change the shape of y to (n_samples,), for example using ravel().\n",
            "  after removing the cwd from sys.path.\n"
          ],
          "name": "stderr"
        },
        {
          "output_type": "execute_result",
          "data": {
            "text/plain": [
              "RandomForestRegressor(bootstrap=True, criterion='mse', max_depth=None,\n",
              "                      max_features='auto', max_leaf_nodes=None,\n",
              "                      min_impurity_decrease=0.0, min_impurity_split=None,\n",
              "                      min_samples_leaf=1, min_samples_split=2,\n",
              "                      min_weight_fraction_leaf=0.0, n_estimators=10,\n",
              "                      n_jobs=None, oob_score=False, random_state=42, verbose=0,\n",
              "                      warm_start=False)"
            ]
          },
          "metadata": {
            "tags": []
          },
          "execution_count": 18
        }
      ]
    },
    {
      "cell_type": "code",
      "metadata": {
        "id": "48Wj7P9Xlfje",
        "colab_type": "code",
        "outputId": "b9d4d02e-fdb6-4f1e-e27b-ea0bdbf45f69",
        "colab": {
          "base_uri": "https://localhost:8080/",
          "height": 34
        }
      },
      "source": [
        "from sklearn.metrics import mean_squared_error\n",
        "rf_predictions = forest_reg.predict(X_test)\n",
        "\n",
        "rf_mse = mean_squared_error(y_test, rf_predictions)\n",
        "rf_rmse = np.sqrt(rf_mse)\n",
        "rf_rmse"
      ],
      "execution_count": 0,
      "outputs": [
        {
          "output_type": "execute_result",
          "data": {
            "text/plain": [
              "0.7795973361783928"
            ]
          },
          "metadata": {
            "tags": []
          },
          "execution_count": 35
        }
      ]
    },
    {
      "cell_type": "code",
      "metadata": {
        "id": "GdAC9VPZA1I0",
        "colab_type": "code",
        "outputId": "e313eb1d-5fb5-42c3-836b-a5ee39348b14",
        "colab": {
          "base_uri": "https://localhost:8080/",
          "height": 205
        }
      },
      "source": [
        "from sklearn.model_selection import cross_val_score\n",
        "scores = cross_val_score(forest_reg, X_train, y_train,\n",
        "                         scoring=\"neg_mean_squared_error\", cv=10)\n",
        "tree_rmse_scores = np.sqrt(-scores)\n",
        "tree_rmse_scores"
      ],
      "execution_count": 0,
      "outputs": [
        {
          "output_type": "stream",
          "text": [
            "/usr/local/lib/python3.6/dist-packages/sklearn/model_selection/_validation.py:516: DataConversionWarning: A column-vector y was passed when a 1d array was expected. Please change the shape of y to (n_samples,), for example using ravel().\n",
            "  estimator.fit(X_train, y_train, **fit_params)\n",
            "/usr/local/lib/python3.6/dist-packages/sklearn/model_selection/_validation.py:516: DataConversionWarning: A column-vector y was passed when a 1d array was expected. Please change the shape of y to (n_samples,), for example using ravel().\n",
            "  estimator.fit(X_train, y_train, **fit_params)\n",
            "/usr/local/lib/python3.6/dist-packages/sklearn/model_selection/_validation.py:516: DataConversionWarning: A column-vector y was passed when a 1d array was expected. Please change the shape of y to (n_samples,), for example using ravel().\n",
            "  estimator.fit(X_train, y_train, **fit_params)\n",
            "/usr/local/lib/python3.6/dist-packages/sklearn/model_selection/_validation.py:516: DataConversionWarning: A column-vector y was passed when a 1d array was expected. Please change the shape of y to (n_samples,), for example using ravel().\n",
            "  estimator.fit(X_train, y_train, **fit_params)\n",
            "/usr/local/lib/python3.6/dist-packages/sklearn/model_selection/_validation.py:516: DataConversionWarning: A column-vector y was passed when a 1d array was expected. Please change the shape of y to (n_samples,), for example using ravel().\n",
            "  estimator.fit(X_train, y_train, **fit_params)\n"
          ],
          "name": "stderr"
        }
      ]
    },
    {
      "cell_type": "markdown",
      "metadata": {
        "id": "yOwsjzfi9q8E",
        "colab_type": "text"
      },
      "source": [
        "# Visualization of coordinates using geopandas"
      ]
    },
    {
      "cell_type": "code",
      "metadata": {
        "id": "LwiLfrhN9wn4",
        "colab_type": "code",
        "outputId": "bbc682c7-9cf6-401f-9bf2-2afee508a0ac",
        "colab": {
          "base_uri": "https://localhost:8080/",
          "height": 255
        }
      },
      "source": [
        "!pip3 install geopandas\n",
        "import descartes\n",
        "import geopandas as gpd\n",
        "from shapely.geometry import Point, Polygon"
      ],
      "execution_count": 0,
      "outputs": [
        {
          "output_type": "stream",
          "text": [
            "Requirement already satisfied: geopandas in /usr/local/lib/python3.6/dist-packages (0.6.1)\n",
            "Requirement already satisfied: pyproj in /usr/local/lib/python3.6/dist-packages (from geopandas) (2.4.0)\n",
            "Requirement already satisfied: pandas>=0.23.0 in /usr/local/lib/python3.6/dist-packages (from geopandas) (0.25.2)\n",
            "Requirement already satisfied: fiona in /usr/local/lib/python3.6/dist-packages (from geopandas) (1.8.9.post2)\n",
            "Requirement already satisfied: shapely in /usr/local/lib/python3.6/dist-packages (from geopandas) (1.6.4.post2)\n",
            "Requirement already satisfied: python-dateutil>=2.6.1 in /usr/local/lib/python3.6/dist-packages (from pandas>=0.23.0->geopandas) (2.6.1)\n",
            "Requirement already satisfied: numpy>=1.13.3 in /usr/local/lib/python3.6/dist-packages (from pandas>=0.23.0->geopandas) (1.17.3)\n",
            "Requirement already satisfied: pytz>=2017.2 in /usr/local/lib/python3.6/dist-packages (from pandas>=0.23.0->geopandas) (2018.9)\n",
            "Requirement already satisfied: cligj>=0.5 in /usr/local/lib/python3.6/dist-packages (from fiona->geopandas) (0.5.0)\n",
            "Requirement already satisfied: six>=1.7 in /usr/local/lib/python3.6/dist-packages (from fiona->geopandas) (1.12.0)\n",
            "Requirement already satisfied: munch in /usr/local/lib/python3.6/dist-packages (from fiona->geopandas) (2.5.0)\n",
            "Requirement already satisfied: click<8,>=4.0 in /usr/local/lib/python3.6/dist-packages (from fiona->geopandas) (7.0)\n",
            "Requirement already satisfied: attrs>=17 in /usr/local/lib/python3.6/dist-packages (from fiona->geopandas) (19.3.0)\n",
            "Requirement already satisfied: click-plugins>=1.0 in /usr/local/lib/python3.6/dist-packages (from fiona->geopandas) (1.1.1)\n"
          ],
          "name": "stdout"
        }
      ]
    },
    {
      "cell_type": "code",
      "metadata": {
        "id": "7vSKJQ3r-FDu",
        "colab_type": "code",
        "outputId": "0039cea3-9f4a-44b3-b59e-e3f346b25dfa",
        "colab": {
          "base_uri": "https://localhost:8080/",
          "height": 34
        }
      },
      "source": [
        "c = 0\n",
        "points = []\n",
        "for i in range(507228):\n",
        "  try:\n",
        "    points.append(vb_housing['Location 1'][i].split('\\n')[2])\n",
        "  except:\n",
        "    c = c + 1\n",
        "c"
      ],
      "execution_count": 0,
      "outputs": [
        {
          "output_type": "execute_result",
          "data": {
            "text/plain": [
              "12292"
            ]
          },
          "metadata": {
            "tags": []
          },
          "execution_count": 5
        }
      ]
    },
    {
      "cell_type": "code",
      "metadata": {
        "id": "jhLLFuld-QZm",
        "colab_type": "code",
        "colab": {}
      },
      "source": [
        "latitude = []\n",
        "longitude = []\n",
        "for i in range(len(points)):\n",
        "  latitude.append(float(points[i].strip('(').strip(')').split()[0].strip(',')))\n",
        "  longitude.append(float(points[i].strip('(').strip(')').split()[1]))"
      ],
      "execution_count": 0,
      "outputs": []
    },
    {
      "cell_type": "code",
      "metadata": {
        "id": "Nu5_PrMQ-XDk",
        "colab_type": "code",
        "outputId": "39101051-e58c-49d0-b869-7d57b6d0bf91",
        "colab": {
          "base_uri": "https://localhost:8080/",
          "height": 71
        }
      },
      "source": [
        "!SHAPE_RESTORE_SHX=YES fio info City_of_Virginia_Beach_Boundary.shp\n",
        "!SHAPE_RESTORE_SHX=YES fio info City_Property.shp\n",
        "vb_map = gpd.read_file('City_of_Virginia_Beach_Boundary.shp')\n",
        "vb_better_map = gpd.read_file('City_Property.shp')"
      ],
      "execution_count": 0,
      "outputs": [
        {
          "output_type": "stream",
          "text": [
            "{\"driver\": \"ESRI Shapefile\", \"schema\": {\"properties\": {}, \"geometry\": \"Polygon\"}, \"crs\": \"\", \"crs_wkt\": \"\", \"bounds\": [-76.22805576121755, 36.550375084838414, -75.86756153137485, 36.93259325263383], \"name\": \"City_of_Virginia_Beach_Boundary\", \"count\": 1}\n",
            "{\"driver\": \"ESRI Shapefile\", \"schema\": {\"properties\": {}, \"geometry\": \"Polygon\"}, \"crs\": \"\", \"crs_wkt\": \"\", \"bounds\": [-76.22650735492523, 36.57984267211846, -75.91980776030165, 36.92142321811987], \"name\": \"City_Property\", \"count\": 2270}\n"
          ],
          "name": "stdout"
        }
      ]
    },
    {
      "cell_type": "code",
      "metadata": {
        "id": "r0Rljx09-c4K",
        "colab_type": "code",
        "outputId": "b53c21a9-83a3-4069-be85-90ba2fcec6ae",
        "colab": {
          "base_uri": "https://localhost:8080/",
          "height": 880
        }
      },
      "source": [
        "%matplotlib inline\n",
        "fig,ax = plt.subplots(figsize=(15,15))\n",
        "vb_better_map.plot(ax=ax)"
      ],
      "execution_count": 0,
      "outputs": [
        {
          "output_type": "execute_result",
          "data": {
            "text/plain": [
              "<matplotlib.axes._subplots.AxesSubplot at 0x7f3e3f752518>"
            ]
          },
          "metadata": {
            "tags": []
          },
          "execution_count": 10
        },
        {
          "output_type": "display_data",
          "data": {
            "image/png": "[encoded data removed]",
            "text/plain": [
              "<Figure size 1080x1080 with 1 Axes>"
            ]
          },
          "metadata": {
            "tags": []
          }
        }
      ]
    },
    {
      "cell_type": "code",
      "metadata": {
        "id": "o2I_7yNC-uFz",
        "colab_type": "code",
        "outputId": "4cfbb18f-7a6c-4226-ed0c-61ab5996d64c",
        "colab": {
          "base_uri": "https://localhost:8080/",
          "height": 68
        }
      },
      "source": [
        "data = {'Longitude':longitude,'Latitude':latitude}\n",
        "df = pd.DataFrame(data)\n",
        "geometry = [Point(xy) for xy in zip(df['Longitude'], df['Latitude'])]\n",
        "crs = {'init':'epsg.4326'}\n",
        "geo_df = gpd.GeoDataFrame(df,crs=crs,geometry=geometry)\n",
        "geometry[:3]"
      ],
      "execution_count": 0,
      "outputs": [
        {
          "output_type": "execute_result",
          "data": {
            "text/plain": [
              "[<shapely.geometry.point.Point at 0x7f3e3f75c7b8>,\n",
              " <shapely.geometry.point.Point at 0x7f3e3f75c908>,\n",
              " <shapely.geometry.point.Point at 0x7f3e3f75cd68>]"
            ]
          },
          "metadata": {
            "tags": []
          },
          "execution_count": 12
        }
      ]
    },
    {
      "cell_type": "code",
      "metadata": {
        "id": "DfvsZVbk-xoD",
        "colab_type": "code",
        "outputId": "892bd4fe-adf1-45ec-db3d-ac282ec2c0cd",
        "colab": {
          "base_uri": "https://localhost:8080/",
          "height": 880
        }
      },
      "source": [
        "%matplotlib inline\n",
        "fig,ax = plt.subplots(figsize=(15,15))\n",
        "vb_map.plot(ax=ax, alpha=0.4, color='grey')\n",
        "geo_df[geo_df['Longitude']!=0].plot(ax=ax, markersize=20, color='blue', marker='o',label='neg')\n",
        "plt.legend(prop={'size':15})"
      ],
      "execution_count": 0,
      "outputs": [
        {
          "output_type": "execute_result",
          "data": {
            "text/plain": [
              "<matplotlib.legend.Legend at 0x7f3e37db8ac8>"
            ]
          },
          "metadata": {
            "tags": []
          },
          "execution_count": 13
        },
        {
          "output_type": "display_data",
          "data": {
            "image/png": "[encoded data removed]",
            "text/plain": [
              "<Figure size 1080x1080 with 1 Axes>"
            ]
          },
          "metadata": {
            "tags": []
          }
        }
      ]
    },
    {
      "cell_type": "markdown",
      "metadata": {
        "id": "2i_sPhP1A-AQ",
        "colab_type": "text"
      },
      "source": [
        "![alt text](https://github.com/ur6yr/ML4VA/raw/master/slr.png)"
      ]
    }
  ]
}